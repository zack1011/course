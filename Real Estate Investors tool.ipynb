{
 "cells": [
  {
   "cell_type": "code",
   "execution_count": 4,
   "metadata": {},
   "outputs": [
    {
     "name": "stdout",
     "output_type": "stream",
     "text": [
      "Collecting package metadata: done\n",
      "Solving environment: done\n",
      "\n",
      "## Package Plan ##\n",
      "\n",
      "  environment location: /home/jupyterlab/conda\n",
      "\n",
      "  added / updated specs:\n",
      "    - geopy\n",
      "\n",
      "\n",
      "The following packages will be downloaded:\n",
      "\n",
      "    package                    |            build\n",
      "    ---------------------------|-----------------\n",
      "    ca-certificates-2019.3.9   |       hecc5488_0         146 KB  conda-forge\n",
      "    certifi-2019.3.9           |           py36_0         149 KB  conda-forge\n",
      "    conda-4.6.8                |           py36_0         876 KB  conda-forge\n",
      "    geographiclib-1.49         |             py_0          32 KB  conda-forge\n",
      "    geopy-1.18.1               |             py_0          51 KB  conda-forge\n",
      "    openssl-1.1.1b             |       h14c3975_1         4.0 MB  conda-forge\n",
      "    ------------------------------------------------------------\n",
      "                                           Total:         5.2 MB\n",
      "\n",
      "The following NEW packages will be INSTALLED:\n",
      "\n",
      "  geographiclib      conda-forge/noarch::geographiclib-1.49-py_0\n",
      "\n",
      "The following packages will be UPDATED:\n",
      "\n",
      "  ca-certificates                     2018.11.29-ha4d7672_0 --> 2019.3.9-hecc5488_0\n",
      "  certifi                              2018.11.29-py36_1000 --> 2019.3.9-py36_0\n",
      "  conda                                        4.6.4-py36_0 --> 4.6.8-py36_0\n",
      "  geopy              conda-forge/linux-64::geopy-1.11.0-py~ --> conda-forge/noarch::geopy-1.18.1-py_0\n",
      "  openssl                              1.1.1a-h14c3975_1000 --> 1.1.1b-h14c3975_1\n",
      "\n",
      "\n",
      "\n",
      "Downloading and Extracting Packages\n",
      "ca-certificates-2019 | 146 KB    | ##################################### | 100% \n",
      "openssl-1.1.1b       | 4.0 MB    | ##################################### | 100% \n",
      "conda-4.6.8          | 876 KB    | ##################################### | 100% \n",
      "geopy-1.18.1         | 51 KB     | ##################################### | 100% \n",
      "certifi-2019.3.9     | 149 KB    | ##################################### | 100% \n",
      "geographiclib-1.49   | 32 KB     | ##################################### | 100% \n",
      "Preparing transaction: done\n",
      "Verifying transaction: done\n",
      "Executing transaction: done\n",
      "Collecting package metadata: done\n",
      "Solving environment: done\n",
      "\n",
      "# All requested packages already installed.\n",
      "\n",
      "Libraries imported.\n"
     ]
    }
   ],
   "source": [
    "import os # Operating System\n",
    "import numpy as np\n",
    "import pandas as pd\n",
    "import datetime as dt \n",
    "import json \n",
    "!conda install -c conda-forge geopy --yes\n",
    "from geopy.geocoders import Nominatim \n",
    "import requests\n",
    "from pandas.io.json import json_normalize \n",
    "\n",
    "import matplotlib.cm as cm\n",
    "import matplotlib.colors as colors\n",
    "\n",
    "!conda install -c conda-forge folium=0.5.0 --yes\n",
    "import folium \n",
    "\n",
    "print('Libraries imported.')"
   ]
  },
  {
   "cell_type": "code",
   "execution_count": null,
   "metadata": {},
   "outputs": [],
   "source": [
    "#Get the Data\n",
    "df_paid = pd.read_csv(\"pp-monthly-update-new-version.csv\")\n",
    "\n",
    "# Assign columns\n",
    "df_paid.columns = ['TUID', 'Price', 'Date_Transfer', 'Postcode', 'Prop_Type', 'Old_New', 'Duration', 'PAON', \\\n",
    "                  'SAON', 'Street', 'Locality', 'Town_City', 'District', 'County', 'PPD_Cat_Type', 'Record_Status']"
   ]
  },
  {
   "cell_type": "code",
   "execution_count": null,
   "metadata": {},
   "outputs": [],
   "source": [
    "# Format the dates\n",
    "df_paid['Date_Transfer'] = df_paid['Date_Transfer'].apply(pd.to_datetime)\n",
    "\n",
    "# Delete all transactions which were done before 2017\n",
    "df_paid.drop(df_paid[df_paid.Date_Transfer.dt.year < 2017].index, inplace=True)\n",
    "\n",
    "# Sort by Date of Sale\n",
    "df_paid.sort_values(by=['Date_Transfer'],ascending=[False],inplace=True)"
   ]
  },
  {
   "cell_type": "markdown",
   "metadata": {},
   "source": [
    "Scope dataset to London"
   ]
  },
  {
   "cell_type": "code",
   "execution_count": null,
   "metadata": {},
   "outputs": [],
   "source": [
    "df_london = df_paid.query(\"Town_City == 'LONDON'\")\n",
    "\n",
    "# create a list for streets in LONDON\n",
    "streets = df_london['Street'].unique().tolist()"
   ]
  },
  {
   "cell_type": "markdown",
   "metadata": {},
   "source": [
    "Calculate average price on street"
   ]
  },
  {
   "cell_type": "code",
   "execution_count": null,
   "metadata": {},
   "outputs": [],
   "source": [
    "df_avg_price = df_london.groupby(['Street'])['Price'].mean().reset_index()\n",
    "df_avg_price.columns = ['Street', 'Avg_Price']"
   ]
  },
  {
   "cell_type": "markdown",
   "metadata": {},
   "source": [
    "Create dataset that meets the budget"
   ]
  },
  {
   "cell_type": "code",
   "execution_count": null,
   "metadata": {},
   "outputs": [],
   "source": [
    "#this should be changed according to budget. This will search based on avg price\n",
    "df_budget = df_avg_price.query(\"(Avg_Price >= 2200000) & (Avg_Price <= 2250000)\")"
   ]
  },
  {
   "cell_type": "code",
   "execution_count": 14,
   "metadata": {},
   "outputs": [
    {
     "data": {
      "text/html": [
       "<div>\n",
       "<style scoped>\n",
       "    .dataframe tbody tr th:only-of-type {\n",
       "        vertical-align: middle;\n",
       "    }\n",
       "\n",
       "    .dataframe tbody tr th {\n",
       "        vertical-align: top;\n",
       "    }\n",
       "\n",
       "    .dataframe thead th {\n",
       "        text-align: right;\n",
       "    }\n",
       "</style>\n",
       "<table border=\"1\" class=\"dataframe\">\n",
       "  <thead>\n",
       "    <tr style=\"text-align: right;\">\n",
       "      <th></th>\n",
       "      <th>Street</th>\n",
       "      <th>Avg_Price</th>\n",
       "    </tr>\n",
       "  </thead>\n",
       "  <tbody>\n",
       "    <tr>\n",
       "      <th>1005</th>\n",
       "      <td>DEVONIA ROAD</td>\n",
       "      <td>2222500.0</td>\n",
       "    </tr>\n",
       "    <tr>\n",
       "      <th>1031</th>\n",
       "      <td>DORA ROAD</td>\n",
       "      <td>2250000.0</td>\n",
       "    </tr>\n",
       "    <tr>\n",
       "      <th>1175</th>\n",
       "      <td>ELMS CRESCENT</td>\n",
       "      <td>2200000.0</td>\n",
       "    </tr>\n",
       "    <tr>\n",
       "      <th>1616</th>\n",
       "      <td>HAVANNAH STREET</td>\n",
       "      <td>2217309.0</td>\n",
       "    </tr>\n",
       "    <tr>\n",
       "      <th>1848</th>\n",
       "      <td>JUNCTION PLACE</td>\n",
       "      <td>2200000.0</td>\n",
       "    </tr>\n",
       "    <tr>\n",
       "      <th>2326</th>\n",
       "      <td>MOORE PARK ROAD</td>\n",
       "      <td>2200000.0</td>\n",
       "    </tr>\n",
       "    <tr>\n",
       "      <th>2367</th>\n",
       "      <td>MUNDANIA ROAD</td>\n",
       "      <td>2200000.0</td>\n",
       "    </tr>\n",
       "    <tr>\n",
       "      <th>2441</th>\n",
       "      <td>NORRICE LEA</td>\n",
       "      <td>2250000.0</td>\n",
       "    </tr>\n",
       "    <tr>\n",
       "      <th>3004</th>\n",
       "      <td>SOUTH END</td>\n",
       "      <td>2200000.0</td>\n",
       "    </tr>\n",
       "    <tr>\n",
       "      <th>3291</th>\n",
       "      <td>THORNHILL SQUARE</td>\n",
       "      <td>2200000.0</td>\n",
       "    </tr>\n",
       "    <tr>\n",
       "      <th>3352</th>\n",
       "      <td>TRINITY CRESCENT</td>\n",
       "      <td>2200000.0</td>\n",
       "    </tr>\n",
       "  </tbody>\n",
       "</table>\n",
       "</div>"
      ],
      "text/plain": [
       "                Street  Avg_Price\n",
       "1005      DEVONIA ROAD  2222500.0\n",
       "1031         DORA ROAD  2250000.0\n",
       "1175     ELMS CRESCENT  2200000.0\n",
       "1616   HAVANNAH STREET  2217309.0\n",
       "1848    JUNCTION PLACE  2200000.0\n",
       "2326   MOORE PARK ROAD  2200000.0\n",
       "2367     MUNDANIA ROAD  2200000.0\n",
       "2441       NORRICE LEA  2250000.0\n",
       "3004         SOUTH END  2200000.0\n",
       "3291  THORNHILL SQUARE  2200000.0\n",
       "3352  TRINITY CRESCENT  2200000.0"
      ]
     },
     "execution_count": 14,
     "metadata": {},
     "output_type": "execute_result"
    }
   ],
   "source": [
    "df_budget"
   ]
  },
  {
   "cell_type": "code",
   "execution_count": 1,
   "metadata": {},
   "outputs": [],
   "source": [
    "#get coordinates of the sstreets with this script:\n",
    "# from geopy.geocoders import Nominatim\n",
    "# geolocator = Nominatim()\n",
    "# location = geolocator.geocode(\"TRINITY CRESCENT london\")\n",
    "# print(location.address)\n",
    "# print((location.latitude, location.longitude))\n",
    "\n",
    "#save them in a csv file"
   ]
  },
  {
   "cell_type": "code",
   "execution_count": 20,
   "metadata": {},
   "outputs": [],
   "source": [
    "#create dataframe \n",
    "london_coord = pd.read_csv(\"Streets coordinates.csv\")\n",
    "\n",
    "# drop the word 'LONDON'\n",
    "london_coord['Street'] = london_coord['Street'].str.replace('LONDON', '')\n",
    "london_coord['Street'] = london_coord['Street'].str.replace('london', '')"
   ]
  },
  {
   "cell_type": "code",
   "execution_count": 21,
   "metadata": {},
   "outputs": [
    {
     "data": {
      "text/html": [
       "<div>\n",
       "<style scoped>\n",
       "    .dataframe tbody tr th:only-of-type {\n",
       "        vertical-align: middle;\n",
       "    }\n",
       "\n",
       "    .dataframe tbody tr th {\n",
       "        vertical-align: top;\n",
       "    }\n",
       "\n",
       "    .dataframe thead th {\n",
       "        text-align: right;\n",
       "    }\n",
       "</style>\n",
       "<table border=\"1\" class=\"dataframe\">\n",
       "  <thead>\n",
       "    <tr style=\"text-align: right;\">\n",
       "      <th></th>\n",
       "      <th>Street</th>\n",
       "      <th>Latitude</th>\n",
       "      <th>Longitude</th>\n",
       "    </tr>\n",
       "  </thead>\n",
       "  <tbody>\n",
       "    <tr>\n",
       "      <th>0</th>\n",
       "      <td>DEVONIA ROAD</td>\n",
       "      <td>51.534655</td>\n",
       "      <td>-0.100575</td>\n",
       "    </tr>\n",
       "    <tr>\n",
       "      <th>1</th>\n",
       "      <td>DORA ROAD</td>\n",
       "      <td>51.429641</td>\n",
       "      <td>-0.201156</td>\n",
       "    </tr>\n",
       "    <tr>\n",
       "      <th>2</th>\n",
       "      <td>ELMS CRESCENT</td>\n",
       "      <td>51.452552</td>\n",
       "      <td>-0.138582</td>\n",
       "    </tr>\n",
       "    <tr>\n",
       "      <th>3</th>\n",
       "      <td>HAVANNAH STREET</td>\n",
       "      <td>51.499633</td>\n",
       "      <td>-0.022975</td>\n",
       "    </tr>\n",
       "    <tr>\n",
       "      <th>4</th>\n",
       "      <td>JUNCTION PLACE</td>\n",
       "      <td>51.517843</td>\n",
       "      <td>-0.171002</td>\n",
       "    </tr>\n",
       "    <tr>\n",
       "      <th>5</th>\n",
       "      <td>MOORE PARK ROAD</td>\n",
       "      <td>51.478914</td>\n",
       "      <td>-0.192600</td>\n",
       "    </tr>\n",
       "    <tr>\n",
       "      <th>6</th>\n",
       "      <td>MUNDANIA ROAD</td>\n",
       "      <td>51.453403</td>\n",
       "      <td>-0.057098</td>\n",
       "    </tr>\n",
       "    <tr>\n",
       "      <th>7</th>\n",
       "      <td>NORRICE LEA</td>\n",
       "      <td>51.580362</td>\n",
       "      <td>-0.172926</td>\n",
       "    </tr>\n",
       "    <tr>\n",
       "      <th>8</th>\n",
       "      <td>SOUTH END</td>\n",
       "      <td>51.428603</td>\n",
       "      <td>-0.013172</td>\n",
       "    </tr>\n",
       "    <tr>\n",
       "      <th>9</th>\n",
       "      <td>THORNHILL SQUARE</td>\n",
       "      <td>51.540025</td>\n",
       "      <td>-0.115177</td>\n",
       "    </tr>\n",
       "    <tr>\n",
       "      <th>10</th>\n",
       "      <td>TRINITY CRESCENT</td>\n",
       "      <td>51.438171</td>\n",
       "      <td>-0.159411</td>\n",
       "    </tr>\n",
       "  </tbody>\n",
       "</table>\n",
       "</div>"
      ],
      "text/plain": [
       "              Street   Latitude  Longitude\n",
       "0      DEVONIA ROAD   51.534655  -0.100575\n",
       "1          DORA ROAD  51.429641  -0.201156\n",
       "2      ELMS CRESCENT  51.452552  -0.138582\n",
       "3    HAVANNAH STREET  51.499633  -0.022975\n",
       "4     JUNCTION PLACE  51.517843  -0.171002\n",
       "5    MOORE PARK ROAD  51.478914  -0.192600\n",
       "6      MUNDANIA ROAD  51.453403  -0.057098\n",
       "7        NORRICE LEA  51.580362  -0.172926\n",
       "8          SOUTH END  51.428603  -0.013172\n",
       "9   THORNHILL SQUARE  51.540025  -0.115177\n",
       "10  TRINITY CRESCENT  51.438171  -0.159411"
      ]
     },
     "execution_count": 21,
     "metadata": {},
     "output_type": "execute_result"
    }
   ],
   "source": [
    "london_coord"
   ]
  },
  {
   "cell_type": "markdown",
   "metadata": {},
   "source": [
    "create one dataset with coordinates by joining 2 "
   ]
  },
  {
   "cell_type": "code",
   "execution_count": 24,
   "metadata": {},
   "outputs": [],
   "source": [
    "df_all = pd.merge(london_coord, df_budget, on=['Street'], how='inner')"
   ]
  },
  {
   "cell_type": "code",
   "execution_count": 25,
   "metadata": {},
   "outputs": [
    {
     "data": {
      "text/html": [
       "<div>\n",
       "<style scoped>\n",
       "    .dataframe tbody tr th:only-of-type {\n",
       "        vertical-align: middle;\n",
       "    }\n",
       "\n",
       "    .dataframe tbody tr th {\n",
       "        vertical-align: top;\n",
       "    }\n",
       "\n",
       "    .dataframe thead th {\n",
       "        text-align: right;\n",
       "    }\n",
       "</style>\n",
       "<table border=\"1\" class=\"dataframe\">\n",
       "  <thead>\n",
       "    <tr style=\"text-align: right;\">\n",
       "      <th></th>\n",
       "      <th>Street</th>\n",
       "      <th>Latitude</th>\n",
       "      <th>Longitude</th>\n",
       "      <th>Avg_Price</th>\n",
       "    </tr>\n",
       "  </thead>\n",
       "  <tbody>\n",
       "    <tr>\n",
       "      <th>0</th>\n",
       "      <td>DORA ROAD</td>\n",
       "      <td>51.429641</td>\n",
       "      <td>-0.201156</td>\n",
       "      <td>2250000.0</td>\n",
       "    </tr>\n",
       "    <tr>\n",
       "      <th>1</th>\n",
       "      <td>ELMS CRESCENT</td>\n",
       "      <td>51.452552</td>\n",
       "      <td>-0.138582</td>\n",
       "      <td>2200000.0</td>\n",
       "    </tr>\n",
       "    <tr>\n",
       "      <th>2</th>\n",
       "      <td>HAVANNAH STREET</td>\n",
       "      <td>51.499633</td>\n",
       "      <td>-0.022975</td>\n",
       "      <td>2217309.0</td>\n",
       "    </tr>\n",
       "    <tr>\n",
       "      <th>3</th>\n",
       "      <td>JUNCTION PLACE</td>\n",
       "      <td>51.517843</td>\n",
       "      <td>-0.171002</td>\n",
       "      <td>2200000.0</td>\n",
       "    </tr>\n",
       "    <tr>\n",
       "      <th>4</th>\n",
       "      <td>MOORE PARK ROAD</td>\n",
       "      <td>51.478914</td>\n",
       "      <td>-0.192600</td>\n",
       "      <td>2200000.0</td>\n",
       "    </tr>\n",
       "    <tr>\n",
       "      <th>5</th>\n",
       "      <td>MUNDANIA ROAD</td>\n",
       "      <td>51.453403</td>\n",
       "      <td>-0.057098</td>\n",
       "      <td>2200000.0</td>\n",
       "    </tr>\n",
       "    <tr>\n",
       "      <th>6</th>\n",
       "      <td>NORRICE LEA</td>\n",
       "      <td>51.580362</td>\n",
       "      <td>-0.172926</td>\n",
       "      <td>2250000.0</td>\n",
       "    </tr>\n",
       "    <tr>\n",
       "      <th>7</th>\n",
       "      <td>SOUTH END</td>\n",
       "      <td>51.428603</td>\n",
       "      <td>-0.013172</td>\n",
       "      <td>2200000.0</td>\n",
       "    </tr>\n",
       "    <tr>\n",
       "      <th>8</th>\n",
       "      <td>THORNHILL SQUARE</td>\n",
       "      <td>51.540025</td>\n",
       "      <td>-0.115177</td>\n",
       "      <td>2200000.0</td>\n",
       "    </tr>\n",
       "    <tr>\n",
       "      <th>9</th>\n",
       "      <td>TRINITY CRESCENT</td>\n",
       "      <td>51.438171</td>\n",
       "      <td>-0.159411</td>\n",
       "      <td>2200000.0</td>\n",
       "    </tr>\n",
       "  </tbody>\n",
       "</table>\n",
       "</div>"
      ],
      "text/plain": [
       "             Street   Latitude  Longitude  Avg_Price\n",
       "0         DORA ROAD  51.429641  -0.201156  2250000.0\n",
       "1     ELMS CRESCENT  51.452552  -0.138582  2200000.0\n",
       "2   HAVANNAH STREET  51.499633  -0.022975  2217309.0\n",
       "3    JUNCTION PLACE  51.517843  -0.171002  2200000.0\n",
       "4   MOORE PARK ROAD  51.478914  -0.192600  2200000.0\n",
       "5     MUNDANIA ROAD  51.453403  -0.057098  2200000.0\n",
       "6       NORRICE LEA  51.580362  -0.172926  2250000.0\n",
       "7         SOUTH END  51.428603  -0.013172  2200000.0\n",
       "8  THORNHILL SQUARE  51.540025  -0.115177  2200000.0\n",
       "9  TRINITY CRESCENT  51.438171  -0.159411  2200000.0"
      ]
     },
     "execution_count": 25,
     "metadata": {},
     "output_type": "execute_result"
    }
   ],
   "source": [
    "df_all"
   ]
  },
  {
   "cell_type": "code",
   "execution_count": 22,
   "metadata": {},
   "outputs": [
    {
     "name": "stderr",
     "output_type": "stream",
     "text": [
      "/home/jupyterlab/conda/lib/python3.6/site-packages/ipykernel_launcher.py:3: DeprecationWarning: Using Nominatim with the default \"geopy/1.18.1\" `user_agent` is strongly discouraged, as it violates Nominatim's ToS https://operations.osmfoundation.org/policies/nominatim/ and may possibly cause 403 and 429 HTTP errors. Please specify a custom `user_agent` with `Nominatim(user_agent=\"my-application\")` or by overriding the default `user_agent`: `geopy.geocoders.options.default_user_agent = \"my-application\"`. In geopy 2.0 this will become an exception.\n",
      "  This is separate from the ipykernel package so we can avoid doing imports until\n"
     ]
    },
    {
     "name": "stdout",
     "output_type": "stream",
     "text": [
      "The geograpical coordinate of London City are 51.5073219, -0.1276474.\n"
     ]
    }
   ],
   "source": [
    "address = 'London, UK'\n",
    "\n",
    "geolocator = Nominatim()\n",
    "location = geolocator.geocode(address)\n",
    "latitude = location.latitude\n",
    "longitude = location.longitude\n",
    "print('The geograpical coordinate of London City are {}, {}.'.format(latitude, longitude))"
   ]
  },
  {
   "cell_type": "markdown",
   "metadata": {},
   "source": [
    "create map of london"
   ]
  },
  {
   "cell_type": "code",
   "execution_count": 27,
   "metadata": {},
   "outputs": [
    {
     "data": {
      "text/html": [
       "<div style=\"width:100%;\"><div style=\"position:relative;width:100%;height:0;padding-bottom:60%;\"><iframe src=\"data:text/html;charset=utf-8;base64,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\" style=\"position:absolute;width:100%;height:100%;left:0;top:0;border:none !important;\" allowfullscreen webkitallowfullscreen mozallowfullscreen></iframe></div></div>"
      ],
      "text/plain": [
       "<folium.folium.Map at 0x7fda3cb95be0>"
      ]
     },
     "execution_count": 27,
     "metadata": {},
     "output_type": "execute_result"
    }
   ],
   "source": [
    "map_london = folium.Map(location=[latitude, longitude], zoom_start=11)\n",
    "\n",
    "# add markers\n",
    "for lat, lng, price, street in zip(df_all['Latitude'], df_all['Longitude'], df_all['Avg_Price'], df_all['Street']):\n",
    "    label = '{}, {}'.format(street, price)\n",
    "    label = folium.Popup(label, parse_html=True)\n",
    "    folium.CircleMarker(\n",
    "        [lat, lng],\n",
    "        radius=5,\n",
    "        popup=label,\n",
    "        color='blue',\n",
    "        fill=True,\n",
    "        fill_color='#3186cc',\n",
    "        fill_opacity=0.7,\n",
    "        parse_html=False).add_to(map_london)  \n",
    "    \n",
    "map_london"
   ]
  },
  {
   "cell_type": "markdown",
   "metadata": {},
   "source": [
    "Explore with Foursquare to find interested venues"
   ]
  },
  {
   "cell_type": "code",
   "execution_count": null,
   "metadata": {},
   "outputs": [],
   "source": [
    "\n",
    "CLIENT_ID = '******' # your Foursquare ID\n",
    "CLIENT_SECRET = '*******' # your Foursquare Secret\n",
    "VERSION = '20180605' # Foursquare API version\n",
    "\n",
    "print('Your credentails:')\n",
    "print('CLIENT_ID: ' + CLIENT_ID)\n",
    "print('CLIENT_SECRET:' + CLIENT_SECRET)\n",
    "\n",
    "\n",
    "\n",
    "# Use this function to explore the streets\n",
    "# def getNearbyVenues(names, latitudes, longitudes, radius=500, LIMIT=100):\n",
    "    \n",
    "#     venues_list=[]\n",
    "#     for name, lat, lng in zip(names, latitudes, longitudes):\n",
    "#         print(name)\n",
    "            \n",
    "#         # create the API request URL\n",
    "#         url = 'https://api.foursquare.com/v2/venues/explore?&client_id={}&client_secret={}&v={}&ll={},{}&radius={}&limit={}'.format(\n",
    "#             CLIENT_ID, \n",
    "#             CLIENT_SECRET, \n",
    "#             VERSION, \n",
    "#             lat, \n",
    "#             lng, \n",
    "#             radius, \n",
    "#             LIMIT)\n",
    "            \n",
    "#         # make the GET request\n",
    "#         results = requests.get(url).json()[\"response\"]['groups'][0]['items']\n",
    "        \n",
    "#         # return only relevant information for each nearby venue\n",
    "#         venues_list.append([(\n",
    "#             name, \n",
    "#             lat, \n",
    "#             lng, \n",
    "#             v['venue']['name'], \n",
    "#             v['venue']['location']['lat'], \n",
    "#             v['venue']['location']['lng'],  \n",
    "#             v['venue']['categories'][0]['name']) for v in results])\n",
    "\n",
    "#     nearby_venues = pd.DataFrame([item for venue_list in venues_list for item in venue_list])\n",
    "#     nearby_venues.columns = ['Street', \n",
    "#                   'Street Latitude', \n",
    "#                   'Street Longitude', \n",
    "#                   'Venue', \n",
    "#                   'Venue Latitude', \n",
    "#                   'Venue Longitude', \n",
    "#                   'Venue Category']\n",
    "    \n",
    "#     return(nearby_venues)"
   ]
  }
 ],
 "metadata": {
  "kernelspec": {
   "display_name": "Python 3",
   "language": "python",
   "name": "python3"
  },
  "language_info": {
   "codemirror_mode": {
    "name": "ipython",
    "version": 3
   },
   "file_extension": ".py",
   "mimetype": "text/x-python",
   "name": "python",
   "nbconvert_exporter": "python",
   "pygments_lexer": "ipython3",
   "version": "3.6.8"
  }
 },
 "nbformat": 4,
 "nbformat_minor": 2
}
